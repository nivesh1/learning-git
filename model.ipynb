{
 "cells": [
  {
   "cell_type": "code",
   "execution_count": null,
   "id": "a524d9f9",
   "metadata": {},
   "outputs": [],
   "source": [
    "print(\"This file will train an ml model\")"
   ]
  }
 ],
 "metadata": {
  "language_info": {
   "name": "python"
  }
 },
 "nbformat": 4,
 "nbformat_minor": 5
}
